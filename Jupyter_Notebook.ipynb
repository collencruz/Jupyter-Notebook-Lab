{
 "cells": [
  {
   "cell_type": "markdown",
   "metadata": {},
   "source": [
    "<center>\n",
    "    <img src=\"https://cf-courses-data.s3.us.cloud-object-storage.appdomain.cloud/IBMDeveloperSkillsNetwork-DS0105EN-SkillsNetwork/labs/Module2/images/SN_web_lightmode.png\" width=\"300\" alt=\"cognitiveclass.ai logo\"  />\n",
    "</center>\n"
   ]
  },
  {
   "cell_type": "markdown",
   "metadata": {},
   "source": [
    "<a href=\"https://dataplatform.cloud.ibm.com/gallery\">IBM Cloud Gallery</a>"
   ]
  },
  {
   "cell_type": "markdown",
   "metadata": {},
   "source": [
    "# My Jupyter Notebook on IBM Watson Studio"
   ]
  },
  {
   "cell_type": "markdown",
   "metadata": {},
   "source": [
    "**Collen Cruz** <br> Desired Occupation: Data Scientist"
   ]
  },
  {
   "cell_type": "markdown",
   "metadata": {},
   "source": [
    "*My interest in data science began with the discovery of Artificial Intelligence (AI), I was immediately drawn to the idea of having technology automate everyday task or aid in further technological advancements. With the recent popularization of current open source AI systems, such as ChatGPT and other developments from OpenAI, more people have been drawn to the implications of AI and how beneficial the technology can be. I hope to further the advancement of AI and make my own contributions to the AI community.*"
   ]
  },
  {
   "cell_type": "markdown",
   "metadata": {},
   "source": [
    "### The following code takes in two inputs, multiples them, and returns the result."
   ]
  },
  {
   "cell_type": "code",
   "execution_count": 3,
   "metadata": {},
   "outputs": [
    {
     "name": "stdout",
     "output_type": "stream",
     "text": [
      "The result of 3 * 4 is 12\n"
     ]
    }
   ],
   "source": [
    "def multiply(n, m):\n",
    "    return n * m\n",
    "\n",
    "\n",
    "print(\"The result of 3 * 4 is\", multiply(3, 4))"
   ]
  },
  {
   "cell_type": "markdown",
   "metadata": {},
   "source": [
    "#### Horizontal Line\n",
    "***\n",
    "- Bulleted List\n",
    "    - Hello\n",
    "    - World\n",
    "1. Numbered List\n",
    "    1. One\n",
    "    1. Two\n",
    "\n",
    "#### Cousera Logo\n",
    "<img src=\"https://about.coursera.org/static/whiteCoursera-23ec484f7091914430ce19b07d09aedf.svg\" title=\"Coursera Logo\">"
   ]
  },
  {
   "cell_type": "code",
   "execution_count": null,
   "metadata": {},
   "outputs": [],
   "source": []
  }
 ],
 "metadata": {
  "kernelspec": {
   "display_name": "Python",
   "language": "python",
   "name": "conda-env-python-py"
  },
  "language_info": {
   "codemirror_mode": {
    "name": "ipython",
    "version": 3
   },
   "file_extension": ".py",
   "mimetype": "text/x-python",
   "name": "python",
   "nbconvert_exporter": "python",
   "pygments_lexer": "ipython3",
   "version": "3.7.12"
  }
 },
 "nbformat": 4,
 "nbformat_minor": 4
}
